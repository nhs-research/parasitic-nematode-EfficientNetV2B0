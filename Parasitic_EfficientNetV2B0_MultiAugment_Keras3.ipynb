{
  "nbformat": 4,
  "nbformat_minor": 0,
  "metadata": {
    "colab": {
      "provenance": [],
      "gpuType": "T4",
      "include_colab_link": true
    },
    "kernelspec": {
      "name": "python3",
      "display_name": "Python 3"
    },
    "language_info": {
      "name": "python"
    },
    "accelerator": "GPU"
  },
  "cells": [
    {
      "cell_type": "markdown",
      "metadata": {
        "id": "view-in-github",
        "colab_type": "text"
      },
      "source": [
        "<a href=\"https://colab.research.google.com/github/nhs-research/parasitic-nematode-EfficientNetV2B0/blob/main/Parasitic_EfficientNetV2B0_MultiAugment_Keras3.ipynb\" target=\"_parent\"><img src=\"https://colab.research.google.com/assets/colab-badge.svg\" alt=\"Open In Colab\"/></a>"
      ]
    },
    {
      "cell_type": "markdown",
      "metadata": {
        "id": "OR2wZ62O0Ry2"
      },
      "source": [
        "# Installations"
      ]
    },
    {
      "cell_type": "code",
      "source": [
        "!pip install keras-cv"
      ],
      "metadata": {
        "colab": {
          "base_uri": "https://localhost:8080/"
        },
        "id": "v0wF_5H0ZBXL",
        "outputId": "ac0f5428-67dc-46f8-dbbd-a42aebd24a8f"
      },
      "execution_count": null,
      "outputs": [
        {
          "output_type": "stream",
          "name": "stdout",
          "text": [
            "Requirement already satisfied: keras-cv in /usr/local/lib/python3.11/dist-packages (0.9.0)\n",
            "Requirement already satisfied: packaging in /usr/local/lib/python3.11/dist-packages (from keras-cv) (24.2)\n",
            "Requirement already satisfied: absl-py in /usr/local/lib/python3.11/dist-packages (from keras-cv) (1.4.0)\n",
            "Requirement already satisfied: regex in /usr/local/lib/python3.11/dist-packages (from keras-cv) (2024.11.6)\n",
            "Requirement already satisfied: tensorflow-datasets in /usr/local/lib/python3.11/dist-packages (from keras-cv) (4.9.8)\n",
            "Requirement already satisfied: keras-core in /usr/local/lib/python3.11/dist-packages (from keras-cv) (0.1.7)\n",
            "Requirement already satisfied: kagglehub in /usr/local/lib/python3.11/dist-packages (from keras-cv) (0.3.10)\n",
            "Requirement already satisfied: pyyaml in /usr/local/lib/python3.11/dist-packages (from kagglehub->keras-cv) (6.0.2)\n",
            "Requirement already satisfied: requests in /usr/local/lib/python3.11/dist-packages (from kagglehub->keras-cv) (2.32.3)\n",
            "Requirement already satisfied: tqdm in /usr/local/lib/python3.11/dist-packages (from kagglehub->keras-cv) (4.67.1)\n",
            "Requirement already satisfied: numpy in /usr/local/lib/python3.11/dist-packages (from keras-core->keras-cv) (2.0.2)\n",
            "Requirement already satisfied: rich in /usr/local/lib/python3.11/dist-packages (from keras-core->keras-cv) (13.9.4)\n",
            "Requirement already satisfied: namex in /usr/local/lib/python3.11/dist-packages (from keras-core->keras-cv) (0.0.8)\n",
            "Requirement already satisfied: h5py in /usr/local/lib/python3.11/dist-packages (from keras-core->keras-cv) (3.13.0)\n",
            "Requirement already satisfied: dm-tree in /usr/local/lib/python3.11/dist-packages (from keras-core->keras-cv) (0.1.9)\n",
            "Requirement already satisfied: array_record>=0.5.0 in /usr/local/lib/python3.11/dist-packages (from tensorflow-datasets->keras-cv) (0.7.1)\n",
            "Requirement already satisfied: etils>=1.9.1 in /usr/local/lib/python3.11/dist-packages (from etils[edc,enp,epath,epy,etree]>=1.9.1; python_version >= \"3.11\"->tensorflow-datasets->keras-cv) (1.12.2)\n",
            "Requirement already satisfied: immutabledict in /usr/local/lib/python3.11/dist-packages (from tensorflow-datasets->keras-cv) (4.2.1)\n",
            "Requirement already satisfied: promise in /usr/local/lib/python3.11/dist-packages (from tensorflow-datasets->keras-cv) (2.3)\n",
            "Requirement already satisfied: protobuf>=3.20 in /usr/local/lib/python3.11/dist-packages (from tensorflow-datasets->keras-cv) (5.29.4)\n",
            "Requirement already satisfied: psutil in /usr/local/lib/python3.11/dist-packages (from tensorflow-datasets->keras-cv) (5.9.5)\n",
            "Requirement already satisfied: pyarrow in /usr/local/lib/python3.11/dist-packages (from tensorflow-datasets->keras-cv) (18.1.0)\n",
            "Requirement already satisfied: simple_parsing in /usr/local/lib/python3.11/dist-packages (from tensorflow-datasets->keras-cv) (0.1.7)\n",
            "Requirement already satisfied: tensorflow-metadata in /usr/local/lib/python3.11/dist-packages (from tensorflow-datasets->keras-cv) (1.16.1)\n",
            "Requirement already satisfied: termcolor in /usr/local/lib/python3.11/dist-packages (from tensorflow-datasets->keras-cv) (2.5.0)\n",
            "Requirement already satisfied: toml in /usr/local/lib/python3.11/dist-packages (from tensorflow-datasets->keras-cv) (0.10.2)\n",
            "Requirement already satisfied: wrapt in /usr/local/lib/python3.11/dist-packages (from tensorflow-datasets->keras-cv) (1.17.2)\n",
            "Requirement already satisfied: einops in /usr/local/lib/python3.11/dist-packages (from etils[edc,enp,epath,epy,etree]>=1.9.1; python_version >= \"3.11\"->tensorflow-datasets->keras-cv) (0.8.1)\n",
            "Requirement already satisfied: fsspec in /usr/local/lib/python3.11/dist-packages (from etils[edc,enp,epath,epy,etree]>=1.9.1; python_version >= \"3.11\"->tensorflow-datasets->keras-cv) (2025.3.0)\n",
            "Requirement already satisfied: importlib_resources in /usr/local/lib/python3.11/dist-packages (from etils[edc,enp,epath,epy,etree]>=1.9.1; python_version >= \"3.11\"->tensorflow-datasets->keras-cv) (6.5.2)\n",
            "Requirement already satisfied: typing_extensions in /usr/local/lib/python3.11/dist-packages (from etils[edc,enp,epath,epy,etree]>=1.9.1; python_version >= \"3.11\"->tensorflow-datasets->keras-cv) (4.12.2)\n",
            "Requirement already satisfied: zipp in /usr/local/lib/python3.11/dist-packages (from etils[edc,enp,epath,epy,etree]>=1.9.1; python_version >= \"3.11\"->tensorflow-datasets->keras-cv) (3.21.0)\n",
            "Requirement already satisfied: charset-normalizer<4,>=2 in /usr/local/lib/python3.11/dist-packages (from requests->kagglehub->keras-cv) (3.4.1)\n",
            "Requirement already satisfied: idna<4,>=2.5 in /usr/local/lib/python3.11/dist-packages (from requests->kagglehub->keras-cv) (3.10)\n",
            "Requirement already satisfied: urllib3<3,>=1.21.1 in /usr/local/lib/python3.11/dist-packages (from requests->kagglehub->keras-cv) (2.3.0)\n",
            "Requirement already satisfied: certifi>=2017.4.17 in /usr/local/lib/python3.11/dist-packages (from requests->kagglehub->keras-cv) (2025.1.31)\n",
            "Requirement already satisfied: attrs>=18.2.0 in /usr/local/lib/python3.11/dist-packages (from dm-tree->keras-core->keras-cv) (25.3.0)\n",
            "Requirement already satisfied: six in /usr/local/lib/python3.11/dist-packages (from promise->tensorflow-datasets->keras-cv) (1.17.0)\n",
            "Requirement already satisfied: markdown-it-py>=2.2.0 in /usr/local/lib/python3.11/dist-packages (from rich->keras-core->keras-cv) (3.0.0)\n",
            "Requirement already satisfied: pygments<3.0.0,>=2.13.0 in /usr/local/lib/python3.11/dist-packages (from rich->keras-core->keras-cv) (2.18.0)\n",
            "Requirement already satisfied: docstring-parser<1.0,>=0.15 in /usr/local/lib/python3.11/dist-packages (from simple_parsing->tensorflow-datasets->keras-cv) (0.16)\n",
            "Requirement already satisfied: googleapis-common-protos<2,>=1.56.4 in /usr/local/lib/python3.11/dist-packages (from tensorflow-metadata->tensorflow-datasets->keras-cv) (1.69.2)\n",
            "Requirement already satisfied: mdurl~=0.1 in /usr/local/lib/python3.11/dist-packages (from markdown-it-py>=2.2.0->rich->keras-core->keras-cv) (0.1.2)\n"
          ]
        }
      ]
    },
    {
      "cell_type": "code",
      "execution_count": null,
      "metadata": {
        "id": "xX7Lns5L0Hpc",
        "collapsed": true
      },
      "outputs": [],
      "source": [
        "from google.colab import drive\n",
        "\n",
        "import tensorflow as tf\n",
        "import tensorflow_datasets as tfds\n",
        "import matplotlib.pyplot as plt\n",
        "import numpy as np\n",
        "import pandas as pd\n",
        "import seaborn as sn\n",
        "\n",
        "import sklearn\n",
        "import os\n",
        "\n",
        "import sklearn.metrics\n",
        "\n",
        "import keras\n",
        "import keras.applications as applications\n",
        "import keras.layers as layers\n",
        "import keras.losses as losses\n",
        "import keras.optimizers as optimizers\n",
        "import keras.callbacks as callbacks\n",
        "import keras.models as models\n",
        "import keras.backend as K\n",
        "\n",
        "import keras_cv\n",
        "\n",
        "import scipy.ndimage.filters as filters\n",
        "import scipy.ndimage.morphology as morphology\n",
        "import math\n",
        "\n",
        "import warnings\n",
        "\n",
        "import zipfile\n",
        "\n",
        "import os"
      ]
    },
    {
      "cell_type": "markdown",
      "source": [
        "## Colab .env"
      ],
      "metadata": {
        "id": "K5CFwW5LPT7Y"
      }
    },
    {
      "cell_type": "code",
      "source": [
        "from google.colab import userdata\n",
        "\n",
        "ZIP_PATH = userdata.get('ZIP_PATH')\n",
        "DATASET_NAME = userdata.get('DATASET_NAME')\n",
        "CHECKPOINT_PATH = userdata.get('CHECKPOINT_PATH')\n",
        "\n",
        "print(ZIP_PATH)\n",
        "print(DATASET_NAME)\n",
        "print(CHECKPOINT_PATH)"
      ],
      "metadata": {
        "colab": {
          "base_uri": "https://localhost:8080/"
        },
        "id": "ZkZxDbljPTut",
        "outputId": "df80043f-8d17-475d-ce0c-a4d81bd3fd15"
      },
      "execution_count": null,
      "outputs": [
        {
          "output_type": "stream",
          "name": "stdout",
          "text": [
            "/gdrive/MyDrive/gilbert/NemaApp_Retrain/Parasitic/Microscopic Image Dataset of Plant-Parasitic Nematodes.zip\n",
            "Microscopic Image Dataset of Plant-Parasitic Nematodes\n"
          ]
        }
      ]
    },
    {
      "cell_type": "markdown",
      "source": [
        "## Create model output folder"
      ],
      "metadata": {
        "id": "bFXaw8n3gDuO"
      }
    },
    {
      "cell_type": "code",
      "source": [
        "os.makedirs('/content/models')"
      ],
      "metadata": {
        "id": "Rv5ok25tgDd8"
      },
      "execution_count": null,
      "outputs": []
    },
    {
      "cell_type": "markdown",
      "metadata": {
        "id": "tmdw_hQPqz7v"
      },
      "source": [
        "## Helper func"
      ]
    },
    {
      "cell_type": "code",
      "execution_count": null,
      "metadata": {
        "id": "y4kBaTJQs2Zq"
      },
      "outputs": [],
      "source": [
        "def calculate_metrics(model, test, ds, num_classes):\n",
        "  # get the labels\n",
        "  predictions = np.array([])\n",
        "  labels =  np.array([])\n",
        "\n",
        "  for x, y in test:\n",
        "    predictions = np.concatenate([predictions, np.argmax(model.predict(x), axis=-1)])\n",
        "    labels = np.concatenate([labels, y.numpy()])\n",
        "\n",
        "  # [Metric 1] confusion matrix\n",
        "  conf_matrix = tf.math.confusion_matrix(labels, predictions).numpy()\n",
        "  conf_matrix_df = pd.DataFrame(conf_matrix,\n",
        "                     index = ds.class_names,\n",
        "                     columns = ds.class_names)\n",
        "  plt.figure(figsize=(14,14))\n",
        "  ax = sn.heatmap(conf_matrix_df, cmap='Blues', annot=True, fmt='d')\n",
        "  ax.set_xlabel('\\nPredicted Classes')\n",
        "  ax.set_ylabel('Actual Classes');\n",
        "  plt.show()\n",
        "\n",
        "  # [Metric 2] Overall test accuracy\n",
        "  overall_accuracy = np.diagonal(conf_matrix_df).sum()/(conf_matrix_df.sum().sum())*100\n",
        "  print('Test accuracy: {:.4f}%'.format(overall_accuracy))\n",
        "\n",
        "  # [Metric 3] Mean class accuracy\n",
        "  pred_classes = np.diagonal(conf_matrix)\n",
        "  actual_classes = conf_matrix.sum(axis=1) # sum by rows\n",
        "  datasize = num_classes\n",
        "  sumAccuracy = 0\n",
        "  divisor = 0\n",
        "  for i in range(datasize):\n",
        "    if actual_classes[i] != 0:\n",
        "      acc = pred_classes[i]/actual_classes[i]\n",
        "      sumAccuracy += acc\n",
        "      divisor = divisor+1\n",
        "\n",
        "  meanClassAccuracy = 0\n",
        "  if divisor > 0:\n",
        "    meanClassAccuracy = sumAccuracy/divisor\n",
        "  print('Mean class accuracy: {:.4f}'.format(meanClassAccuracy))\n",
        "\n",
        "  # [Metric 4] F1 score\n",
        "  f1score = sklearn.metrics.f1_score(labels, predictions, average=\"weighted\")\n",
        "  print('F1 Score: {:.4f}'.format(f1score))\n",
        "\n",
        "  # [Metric 5] Weighted average Precision and Recall\n",
        "  precisionScore = sklearn.metrics.precision_score(labels, predictions, average=\"weighted\")\n",
        "  recallScore = sklearn.metrics.recall_score(labels, predictions, average=\"weighted\")\n",
        "  print('Avg Precision Score: {:.4f}'.format(precisionScore))\n",
        "  print('Avg Recall Score: {:.4f}'.format(recallScore))\n"
      ]
    },
    {
      "cell_type": "code",
      "source": [
        "def plot_history(hist, dataset, loss, augment):\n",
        "  plt.plot(hist.history['accuracy'])\n",
        "  plt.plot(hist.history['val_accuracy'])\n",
        "  ttPerformance = \"[PERFORMANCE] \" + dataset + \" data | \" + loss + \" | \" + augment\n",
        "  plt.title(ttPerformance)\n",
        "  plt.ylabel('accuracy')\n",
        "  plt.xlabel('epoch')\n",
        "  plt.legend(['train', 'test'], loc='upper left')\n",
        "  plt.show()\n",
        "  # summarize history for loss\n",
        "  plt.plot(hist.history['loss'])\n",
        "  plt.plot(hist.history['val_loss'])\n",
        "  ttLoss = \"[LOSS] \" + dataset + \" data | \" + loss + \" | \" + augment\n",
        "  plt.title(ttLoss)\n",
        "  plt.ylabel('loss')\n",
        "  plt.xlabel('epoch')\n",
        "  plt.legend(['train', 'test'], loc='upper left')\n",
        "  plt.show()"
      ],
      "metadata": {
        "id": "8IVbmJysgSVL"
      },
      "execution_count": null,
      "outputs": []
    },
    {
      "cell_type": "markdown",
      "metadata": {
        "id": "IMLeXFaxG3P_"
      },
      "source": [
        "# Model EfficientNetV2B0"
      ]
    },
    {
      "cell_type": "markdown",
      "metadata": {
        "id": "whOv8RYkG3QC"
      },
      "source": [
        "## Data prep"
      ]
    },
    {
      "cell_type": "code",
      "execution_count": null,
      "metadata": {
        "id": "yyxbQIJnG3QD",
        "colab": {
          "base_uri": "https://localhost:8080/"
        },
        "outputId": "18d54de1-34f0-4dfe-ff42-4b4b514e1089"
      },
      "outputs": [
        {
          "output_type": "stream",
          "name": "stdout",
          "text": [
            "Mounted at /gdrive/\n"
          ]
        }
      ],
      "source": [
        "drive.mount('/gdrive/')"
      ]
    },
    {
      "cell_type": "code",
      "source": [
        "zip_ref = zipfile.ZipFile(ZIP_PATH, 'r')\n",
        "zip_ref.extractall('/content/Dataset/')"
      ],
      "metadata": {
        "id": "ptgJuUVuPIjs"
      },
      "execution_count": null,
      "outputs": []
    },
    {
      "cell_type": "code",
      "source": [
        "local_dataset_path = os.path.join('/content/Dataset/', DATASET_NAME)\n",
        "print(local_dataset_path)"
      ],
      "metadata": {
        "colab": {
          "base_uri": "https://localhost:8080/"
        },
        "id": "MlLwnEIrPJq0",
        "outputId": "a126b3bc-d279-4ff1-b7aa-ae79ac700e57"
      },
      "execution_count": null,
      "outputs": [
        {
          "output_type": "stream",
          "name": "stdout",
          "text": [
            "/content/Dataset/Microscopic Image Dataset of Plant-Parasitic Nematodes\n"
          ]
        }
      ]
    },
    {
      "cell_type": "code",
      "execution_count": null,
      "metadata": {
        "id": "YRebIUWyG3QE",
        "colab": {
          "base_uri": "https://localhost:8080/"
        },
        "outputId": "66f9aeb4-db0b-407e-cbc1-45aedb32713f"
      },
      "outputs": [
        {
          "output_type": "stream",
          "name": "stdout",
          "text": [
            "Found 1016 files belonging to 11 classes.\n"
          ]
        }
      ],
      "source": [
        "img_w = 224\n",
        "img_h = 224\n",
        "\n",
        "mix_classes = 26\n",
        "local_classes = 11\n",
        "\n",
        "def get_dataset_partitions_tf(ds, ds_size, train_split=0.8, val_split=0.1, test_split=0.1, shuffle=True, shuffle_size=10000):\n",
        "    assert (train_split + test_split + val_split) == 1\n",
        "\n",
        "    if shuffle:\n",
        "        # Specify seed to always have the same split distribution between runs\n",
        "        ds = ds.shuffle(shuffle_size, seed=12)\n",
        "\n",
        "    train_size = int(train_split * ds_size)\n",
        "    val_size = int(val_split * ds_size)\n",
        "\n",
        "    train_ds = ds.take(train_size)\n",
        "    val_ds = ds.skip(train_size).take(val_size)\n",
        "    test_ds = ds.skip(train_size).skip(val_size)\n",
        "\n",
        "    return train_ds, val_ds, test_ds\n",
        "\n",
        "# crop mix\n",
        "# mix_ds = tf.keras.utils.image_dataset_from_directory(\n",
        "#     cropped_dataset_path,\n",
        "#     image_size=(img_h, img_w),\n",
        "#     batch_size=None, shuffle=False)\n",
        "\n",
        "# mix_size = tf.data.experimental.cardinality(mix_ds).numpy()\n",
        "# train_mix_ds, val_mix_ds, ttest_mix_ds = get_dataset_partitions_tf(mix_ds, mix_size, train_split=0.8, val_split=0.1, test_split=0.1)\n",
        "\n",
        "# crop local\n",
        "local_ds = tf.keras.utils.image_dataset_from_directory(\n",
        "    local_dataset_path,\n",
        "    image_size=(img_h, img_w),\n",
        "    batch_size=None, shuffle=False)\n",
        "\n",
        "local_size = tf.data.experimental.cardinality(local_ds).numpy()\n",
        "train_local_ds, val_local_ds, ttest_local_ds = get_dataset_partitions_tf(local_ds, local_size, train_split=0.8, val_split=0.1, test_split=0.1)\n"
      ]
    },
    {
      "cell_type": "code",
      "execution_count": null,
      "metadata": {
        "id": "SJwVR-cbG3QE"
      },
      "outputs": [],
      "source": [
        "# preprocess\n",
        "# input between -1 and 1\n",
        "# shape [224, 224, 3]\n",
        "# batch size 32\n",
        "ep = 60\n",
        "ep_local = 100\n",
        "bs = 32\n",
        "\n",
        "AUTOTUNE = tf.data.AUTOTUNE\n",
        "rng = tf.random.Generator.from_seed(123, alg='philox')\n",
        "\n",
        "def preprocess_efficientnet(image, label):\n",
        "  image = tf.image.grayscale_to_rgb(tf.image.rgb_to_grayscale(image))\n",
        "  image = tf.image.convert_image_dtype(image, dtype=tf.float32)\n",
        "  image = (image - 127.5) / 127.5  # value to -1:1\n",
        "  return image, label\n",
        "\n",
        "def random_flip(image, label):\n",
        "  seed = rng.make_seeds(2)[0]\n",
        "  image = tf.image.stateless_random_flip_left_right(image, seed=seed)\n",
        "  image = tf.image.stateless_random_flip_up_down(image, seed=seed)\n",
        "  return image, label\n",
        "\n",
        "def random_brightness(image, label):\n",
        "  seed = rng.make_seeds(2)[0]\n",
        "  image = tf.image.stateless_random_brightness(image, 0.3, seed=seed)\n",
        "  image = tf.clip_by_value(image, -1, 1) # clip to range -1:1\n",
        "  return image, label\n",
        "\n",
        "def random_gaussian_blur(image, label):\n",
        "  chance = rng.uniform(shape=[], minval=0, maxval=1)\n",
        "  if chance > 0.5: # 50% chance\n",
        "    # image = tfa.image.gaussian_filter2d(image, filter_shape=(3,3))\n",
        "    blur_layer = keras_cv.layers.RandomGaussianBlur(kernel_size=3, factor=1)\n",
        "    image = blur_layer(image)\n",
        "    image = tf.clip_by_value(image, -1, 1) # clip to range -1:1\n",
        "  return image, label\n",
        "\n",
        "def random_gaussian_noise(image, label):\n",
        "  chance = rng.uniform(shape=[], minval=0, maxval=1)\n",
        "  if chance > 0.5: # 50% chance\n",
        "    noise = tf.random.normal(shape=tf.shape(image), mean=0.0, stddev=0.15, dtype=tf.float32)\n",
        "    image = tf.add(image, noise)\n",
        "    image = tf.clip_by_value(image, -1, 1) # clip to range -1:1\n",
        "    image = tf.image.grayscale_to_rgb(tf.image.rgb_to_grayscale(image))\n",
        "  return image, label\n",
        "\n",
        "def random_contrast(image, label):\n",
        "  seed = rng.make_seeds(2)[0]\n",
        "  image = tf.image.stateless_random_contrast(image, 0.3, 3, seed=seed)\n",
        "  image = tf.clip_by_value(image, -1, 1) # clip to range -1:1\n",
        "  return image, label\n",
        "\n",
        "# ------ MIX ------\n",
        "# # planned combination of\n",
        "# # [v] [brightness / blur / noise] = 3 dataset\n",
        "\n",
        "# train_mix_brightness_blur = train_mix_ds.map(\n",
        "#     preprocess_efficientnet, num_parallel_calls=AUTOTUNE).map(\n",
        "#         random_brightness, num_parallel_calls=AUTOTUNE).map(\n",
        "#             random_gaussian_blur, num_parallel_calls=AUTOTUNE).prefetch(buffer_size=AUTOTUNE).batch(bs).cache().shuffle(1000)\n",
        "\n",
        "# train_mix_brightness_noise = train_mix_ds.map(\n",
        "#     preprocess_efficientnet, num_parallel_calls=AUTOTUNE).map(\n",
        "#         random_brightness, num_parallel_calls=AUTOTUNE).map(\n",
        "#             random_gaussian_noise, num_parallel_calls=AUTOTUNE).prefetch(buffer_size=AUTOTUNE).batch(bs).cache().shuffle(1000)\n",
        "\n",
        "# train_mix_blur_noise = train_mix_ds.map(\n",
        "#     preprocess_efficientnet, num_parallel_calls=AUTOTUNE).map(\n",
        "#         random_gaussian_blur, num_parallel_calls=AUTOTUNE).map(\n",
        "#             random_gaussian_noise, num_parallel_calls=AUTOTUNE).prefetch(buffer_size=AUTOTUNE).batch(bs).cache().shuffle(1000)\n",
        "\n",
        "# # [v] [brightness / blur / noise / contrast] = 6 dataset\n",
        "\n",
        "# train_mix_brightness_contrast = train_mix_ds.map(\n",
        "#     preprocess_efficientnet, num_parallel_calls=AUTOTUNE).map(\n",
        "#         random_brightness, num_parallel_calls=AUTOTUNE).map(\n",
        "#             random_contrast, num_parallel_calls=AUTOTUNE).prefetch(buffer_size=AUTOTUNE).batch(bs).cache().shuffle(1000)\n",
        "\n",
        "# train_mix_blur_contrast = train_mix_ds.map(\n",
        "#     preprocess_efficientnet, num_parallel_calls=AUTOTUNE).map(\n",
        "#         random_gaussian_blur, num_parallel_calls=AUTOTUNE).map(\n",
        "#             random_contrast, num_parallel_calls=AUTOTUNE).prefetch(buffer_size=AUTOTUNE).batch(bs).cache().shuffle(1000)\n",
        "\n",
        "# train_mix_noise_contrast = train_mix_ds.map(\n",
        "#     preprocess_efficientnet, num_parallel_calls=AUTOTUNE).map(\n",
        "#         random_gaussian_noise, num_parallel_calls=AUTOTUNE).map(\n",
        "#             random_contrast, num_parallel_calls=AUTOTUNE).prefetch(buffer_size=AUTOTUNE).batch(bs).cache().shuffle(1000)\n",
        "\n",
        "# ### VALIDATION AND TEST\n",
        "# val_mix_normal = val_mix_ds.map(\n",
        "#     preprocess_efficientnet, num_parallel_calls=AUTOTUNE).prefetch(buffer_size=AUTOTUNE).batch(bs).cache().shuffle(1000)\n",
        "\n",
        "# test_mix_ds = ttest_mix_ds.map(preprocess_efficientnet, num_parallel_calls=AUTOTUNE).batch(bs)\n",
        "\n",
        "# ========================================[local]==================================================\n",
        "\n",
        "# planned combination of\n",
        "# [v] [brightness / blur / noise] = 3 dataset\n",
        "\n",
        "train_local_brightness_blur = train_local_ds.map(\n",
        "    preprocess_efficientnet, num_parallel_calls=AUTOTUNE).map(\n",
        "        random_brightness, num_parallel_calls=AUTOTUNE).map(\n",
        "            random_gaussian_blur, num_parallel_calls=AUTOTUNE).prefetch(buffer_size=AUTOTUNE).batch(bs).cache().shuffle(1000)\n",
        "\n",
        "train_local_brightness_noise = train_local_ds.map(\n",
        "    preprocess_efficientnet, num_parallel_calls=AUTOTUNE).map(\n",
        "        random_brightness, num_parallel_calls=AUTOTUNE).map(\n",
        "            random_gaussian_noise, num_parallel_calls=AUTOTUNE).prefetch(buffer_size=AUTOTUNE).batch(bs).cache().shuffle(1000)\n",
        "\n",
        "train_local_blur_noise = train_local_ds.map(\n",
        "    preprocess_efficientnet, num_parallel_calls=AUTOTUNE).map(\n",
        "        random_gaussian_blur, num_parallel_calls=AUTOTUNE).map(\n",
        "            random_gaussian_noise, num_parallel_calls=AUTOTUNE).prefetch(buffer_size=AUTOTUNE).batch(bs).cache().shuffle(1000)\n",
        "\n",
        "# [v] [brightness / blur / noise / contrast] = 6 dataset\n",
        "\n",
        "train_local_brightness_contrast = train_local_ds.map(\n",
        "    preprocess_efficientnet, num_parallel_calls=AUTOTUNE).map(\n",
        "        random_brightness, num_parallel_calls=AUTOTUNE).map(\n",
        "            random_contrast, num_parallel_calls=AUTOTUNE).prefetch(buffer_size=AUTOTUNE).batch(bs).cache().shuffle(1000)\n",
        "\n",
        "train_local_blur_contrast = train_local_ds.map(\n",
        "    preprocess_efficientnet, num_parallel_calls=AUTOTUNE).map(\n",
        "        random_gaussian_blur, num_parallel_calls=AUTOTUNE).map(\n",
        "            random_contrast, num_parallel_calls=AUTOTUNE).prefetch(buffer_size=AUTOTUNE).batch(bs).cache().shuffle(1000)\n",
        "\n",
        "train_local_noise_contrast = train_local_ds.map(\n",
        "    preprocess_efficientnet, num_parallel_calls=AUTOTUNE).map(\n",
        "        random_gaussian_noise, num_parallel_calls=AUTOTUNE).map(\n",
        "            random_contrast, num_parallel_calls=AUTOTUNE).prefetch(buffer_size=AUTOTUNE).batch(bs).cache().shuffle(1000)\n",
        "\n",
        "### VALIDATION AND TEST\n",
        "val_local_normal = val_local_ds.map(\n",
        "    preprocess_efficientnet, num_parallel_calls=AUTOTUNE).prefetch(buffer_size=AUTOTUNE).batch(bs).cache().shuffle(1000)\n",
        "\n",
        "test_local_ds = ttest_local_ds.map(preprocess_efficientnet, num_parallel_calls=AUTOTUNE).batch(bs)\n",
        "\n"
      ]
    },
    {
      "cell_type": "markdown",
      "source": [
        "## TRAINING"
      ],
      "metadata": {
        "id": "_Pf6thvgG3Qj"
      }
    },
    {
      "cell_type": "markdown",
      "source": [
        "### adam LOSS"
      ],
      "metadata": {
        "id": "fYI7jXqKG3Qj"
      }
    },
    {
      "cell_type": "markdown",
      "source": [
        "#### Brightness + Blur"
      ],
      "metadata": {
        "id": "9CNxvA3FG3Qj"
      }
    },
    {
      "cell_type": "code",
      "source": [
        "dir_brightness_blur = os.path.join(CHECKPOINT_PATH, \"adam/brightness_blur/cp_epoch_{epoch:02d}.weights.h5\")\n",
        "checkpoint = tf.keras.callbacks.ModelCheckpoint(filepath=dir_brightness_blur,\n",
        "                                                 save_weights_only=True,\n",
        "                                                 verbose=1, save_freq=20*bs)\n",
        "\n",
        "early_stopping = tf.keras.callbacks.EarlyStopping(\n",
        "    min_delta=0.001, # minimium amount of change to count as an improvement\n",
        "    patience=40, # how many epochs to wait before stopping\n",
        "    restore_best_weights=True,\n",
        ")\n",
        "\n",
        "# initiate model\n",
        "base_model = tf.keras.applications.efficientnet_v2.EfficientNetV2B0(include_top=False,weights='imagenet',input_shape=(224,224,3),pooling=\"max\",include_preprocessing=False)\n",
        "input = tf.keras.Input(shape=(224,224,3))\n",
        "x = base_model(input)\n",
        "output = tf.keras.layers.Dense(local_classes, activation=\"softmax\")(x)\n",
        "local_adam_brightness_blur = tf.keras.Model(input, output)\n",
        "\n",
        "# compile loss func\n",
        "local_adam_brightness_blur.compile(\n",
        "    optimizer='adam',\n",
        "    loss=tf.losses.SparseCategoricalCrossentropy(from_logits=False),\n",
        "    metrics=['accuracy']\n",
        ")"
      ],
      "metadata": {
        "id": "0DErGWcAG3Qj",
        "colab": {
          "base_uri": "https://localhost:8080/"
        },
        "outputId": "203c6bb5-d2a2-4326-9c2f-2b3fb62a369b"
      },
      "execution_count": null,
      "outputs": [
        {
          "output_type": "stream",
          "name": "stdout",
          "text": [
            "Downloading data from https://storage.googleapis.com/tensorflow/keras-applications/efficientnet_v2/efficientnetv2-b0_notop.h5\n",
            "\u001b[1m24274472/24274472\u001b[0m \u001b[32m━━━━━━━━━━━━━━━━━━━━\u001b[0m\u001b[37m\u001b[0m \u001b[1m0s\u001b[0m 0us/step\n"
          ]
        }
      ]
    },
    {
      "cell_type": "code",
      "source": [
        "local_adam_brightness_blur_hist = local_adam_brightness_blur.fit(\n",
        "  train_local_brightness_blur,\n",
        "  epochs = ep_local,\n",
        "  validation_data= val_local_normal,\n",
        "  callbacks=[checkpoint, early_stopping],\n",
        "  verbose=1\n",
        ")"
      ],
      "metadata": {
        "id": "-sP_vz_pG3Qj",
        "colab": {
          "base_uri": "https://localhost:8080/"
        },
        "outputId": "f7e9fce3-fa62-41f6-b57a-f006ff9dae64"
      },
      "execution_count": null,
      "outputs": [
        {
          "output_type": "stream",
          "name": "stdout",
          "text": [
            "Epoch 1/100\n",
            "\u001b[1m26/26\u001b[0m \u001b[32m━━━━━━━━━━━━━━━━━━━━\u001b[0m\u001b[37m\u001b[0m \u001b[1m463s\u001b[0m 12s/step - accuracy: 0.2040 - loss: 4.6091 - val_accuracy: 0.5743 - val_loss: 1.4207\n",
            "Epoch 2/100\n",
            "\u001b[1m26/26\u001b[0m \u001b[32m━━━━━━━━━━━━━━━━━━━━\u001b[0m\u001b[37m\u001b[0m \u001b[1m320s\u001b[0m 13s/step - accuracy: 0.7326 - loss: 0.8712 - val_accuracy: 0.7327 - val_loss: 0.9267\n",
            "Epoch 3/100\n",
            "\u001b[1m26/26\u001b[0m \u001b[32m━━━━━━━━━━━━━━━━━━━━\u001b[0m\u001b[37m\u001b[0m \u001b[1m309s\u001b[0m 12s/step - accuracy: 0.9138 - loss: 0.2975 - val_accuracy: 0.7822 - val_loss: 0.6176\n",
            "Epoch 4/100\n",
            "\u001b[1m26/26\u001b[0m \u001b[32m━━━━━━━━━━━━━━━━━━━━\u001b[0m\u001b[37m\u001b[0m \u001b[1m209s\u001b[0m 8s/step - accuracy: 0.9698 - loss: 0.1040 - val_accuracy: 0.8911 - val_loss: 0.3609\n",
            "Epoch 5/100\n",
            "\u001b[1m26/26\u001b[0m \u001b[32m━━━━━━━━━━━━━━━━━━━━\u001b[0m\u001b[37m\u001b[0m \u001b[1m200s\u001b[0m 7s/step - accuracy: 0.9948 - loss: 0.0382 - val_accuracy: 0.8614 - val_loss: 0.4250\n",
            "Epoch 6/100\n",
            "\u001b[1m26/26\u001b[0m \u001b[32m━━━━━━━━━━━━━━━━━━━━\u001b[0m\u001b[37m\u001b[0m \u001b[1m198s\u001b[0m 8s/step - accuracy: 0.9863 - loss: 0.0374 - val_accuracy: 0.9307 - val_loss: 0.3023\n",
            "Epoch 7/100\n",
            "\u001b[1m 6/26\u001b[0m \u001b[32m━━━━\u001b[0m\u001b[37m━━━━━━━━━━━━━━━━\u001b[0m \u001b[1m2:31\u001b[0m 8s/step - accuracy: 0.9942 - loss: 0.0113"
          ]
        }
      ]
    },
    {
      "cell_type": "code",
      "source": [
        "local_adam_brightness_blur.save_weights(os.path.join(CHECKPOINT_PATH, \"adam/brightness_blur/best.weights.h5\"))\n",
        "plot_history(local_adam_brightness_blur_hist, \"local\", \"adam\", \"brightness_blur\")"
      ],
      "metadata": {
        "id": "KPLrQ68NG3Qk"
      },
      "execution_count": null,
      "outputs": []
    },
    {
      "cell_type": "code",
      "source": [
        "calculate_metrics(local_adam_brightness_blur, test_local_ds, local_ds, local_classes)\n",
        "print('Metric Result - efficientnetM [local data | adam | brightness_blur]')"
      ],
      "metadata": {
        "id": "BCfiGYjCG3Qk"
      },
      "execution_count": null,
      "outputs": []
    },
    {
      "cell_type": "code",
      "source": [
        "local_adam_brightness_blur.save('/content/models/EffV2B0-adam-bright-blur.keras')"
      ],
      "metadata": {
        "id": "7hg8cR3bgSHM"
      },
      "execution_count": null,
      "outputs": []
    },
    {
      "cell_type": "markdown",
      "source": [
        "#### Brightness + Noise"
      ],
      "metadata": {
        "id": "sMrqOuzqG3Qk"
      }
    },
    {
      "cell_type": "code",
      "source": [
        "dir_brightness_noise = os.path.join(CHECKPOINT_PATH, \"adam/brightness_noise/cp_epoch_{epoch:02d}.weights.h5\")\n",
        "\n",
        "checkpoint = tf.keras.callbacks.ModelCheckpoint(filepath=dir_brightness_noise,\n",
        "                                                 save_weights_only=True,\n",
        "                                                 verbose=1, save_freq=20*bs)\n",
        "\n",
        "early_stopping = tf.keras.callbacks.EarlyStopping(\n",
        "    min_delta=0.001, # minimium amount of change to count as an improvement\n",
        "    patience=40, # how many epochs to wait before stopping\n",
        "    restore_best_weights=True,\n",
        ")\n",
        "\n",
        "# initiate model\n",
        "base_model = tf.keras.applications.efficientnet_v2.EfficientNetV2B0(include_top=False,weights='imagenet',input_shape=(224,224,3),pooling=\"max\",include_preprocessing=False)\n",
        "input = tf.keras.Input(shape=(224,224,3))\n",
        "x = base_model(input)\n",
        "output = tf.keras.layers.Dense(local_classes, activation=\"softmax\")(x)\n",
        "local_adam_brightness_noise = tf.keras.Model(input, output)\n",
        "\n",
        "# compile loss func\n",
        "local_adam_brightness_noise.compile(\n",
        "    optimizer='adam',\n",
        "    loss=tf.losses.SparseCategoricalCrossentropy(from_logits=False),\n",
        "    metrics=['accuracy']\n",
        ")"
      ],
      "metadata": {
        "id": "WHWBuvPoG3Qk"
      },
      "execution_count": null,
      "outputs": []
    },
    {
      "cell_type": "code",
      "source": [
        "local_adam_brightness_noise_hist = local_adam_brightness_noise.fit(\n",
        "  train_local_brightness_noise,\n",
        "  epochs = ep_local,\n",
        "  validation_data= val_local_normal,\n",
        "  callbacks=[checkpoint, early_stopping]\n",
        ")"
      ],
      "metadata": {
        "collapsed": true,
        "id": "JiofEjNTG3Ql"
      },
      "execution_count": null,
      "outputs": []
    },
    {
      "cell_type": "code",
      "source": [
        "local_adam_brightness_noise.save_weights(os.path.join(CHECKPOINT_PATH, \"adam/brightness_noise/best.weights.h5\"))\n",
        "\n",
        "plot_history(local_adam_brightness_noise_hist, \"local\", \"adam\", \"brightness_noise\")"
      ],
      "metadata": {
        "id": "T5Z-PmzLG3Ql"
      },
      "execution_count": null,
      "outputs": []
    },
    {
      "cell_type": "code",
      "source": [
        "calculate_metrics(local_adam_brightness_noise, test_local_ds, local_ds, local_classes)\n",
        "print('Metric Result - efficientnetM [local data | adam | brightness_noise]')"
      ],
      "metadata": {
        "id": "uEuXzWWUG3Qm"
      },
      "execution_count": null,
      "outputs": []
    },
    {
      "cell_type": "code",
      "source": [
        "local_adam_brightness_noise.save('/content/models/EffV2B0-adam-bright-noise.keras')"
      ],
      "metadata": {
        "id": "IbGUUZnHg9Tc"
      },
      "execution_count": null,
      "outputs": []
    },
    {
      "cell_type": "markdown",
      "source": [
        "#### Blur + Noise"
      ],
      "metadata": {
        "id": "UrZ0qoUcG3Qm"
      }
    },
    {
      "cell_type": "code",
      "source": [
        "dir_blur_noise = os.path.join(CHECKPOINT_PATH, \"adam/blur_noise/cp_epoch_{epoch:02d}.weights.h5\")\n",
        "\n",
        "checkpoint = tf.keras.callbacks.ModelCheckpoint(filepath=dir_blur_noise,\n",
        "                                                 save_weights_only=True,\n",
        "                                                 verbose=1, save_freq=20*bs)\n",
        "\n",
        "early_stopping = tf.keras.callbacks.EarlyStopping(\n",
        "    min_delta=0.001, # minimium amount of change to count as an improvement\n",
        "    patience=40, # how many epochs to wait before stopping\n",
        "    restore_best_weights=True,\n",
        ")\n",
        "\n",
        "# initiate model\n",
        "base_model = tf.keras.applications.efficientnet_v2.EfficientNetV2B0(include_top=False,weights='imagenet',input_shape=(224,224,3),pooling=\"max\",include_preprocessing=False)\n",
        "input = tf.keras.Input(shape=(224,224,3))\n",
        "x = base_model(input)\n",
        "output = tf.keras.layers.Dense(local_classes, activation=\"softmax\")(x)\n",
        "local_adam_blur_noise = tf.keras.Model(input, output)\n",
        "\n",
        "# compile loss func\n",
        "local_adam_blur_noise.compile(\n",
        "    optimizer='adam',\n",
        "    loss=tf.losses.SparseCategoricalCrossentropy(from_logits=False),\n",
        "    metrics=['accuracy']\n",
        ")"
      ],
      "metadata": {
        "id": "QPBk1z8pG3Qm"
      },
      "execution_count": null,
      "outputs": []
    },
    {
      "cell_type": "code",
      "source": [
        "local_adam_blur_noise_hist = local_adam_blur_noise.fit(\n",
        "  train_local_blur_noise,\n",
        "  epochs = ep_local,\n",
        "  validation_data= val_local_normal,\n",
        "  callbacks=[checkpoint, early_stopping]\n",
        ")"
      ],
      "metadata": {
        "collapsed": true,
        "id": "nzh2NlsJG3Qm"
      },
      "execution_count": null,
      "outputs": []
    },
    {
      "cell_type": "code",
      "source": [
        "local_adam_blur_noise.save_weights(os.path.join(CHECKPOINT_PATH, \"adam/blur_noise/best.weights.h5\"))\n",
        "\n",
        "plot_history(local_adam_blur_noise_hist, \"local\", \"adam\", \"blur_noise\")"
      ],
      "metadata": {
        "id": "XFI3etYXG3Qn"
      },
      "execution_count": null,
      "outputs": []
    },
    {
      "cell_type": "code",
      "source": [
        "calculate_metrics(local_adam_blur_noise, test_local_ds, local_ds, local_classes)\n",
        "print('Metric Result - efficientnetM [local data | adam | blur_noise]')"
      ],
      "metadata": {
        "id": "gtDBj1_yG3Qn"
      },
      "execution_count": null,
      "outputs": []
    },
    {
      "cell_type": "code",
      "source": [
        "local_adam_blur_noise.save('/content/models/EffV2B0-adam-blur-noise.keras')"
      ],
      "metadata": {
        "id": "KPXdJUVah5qS"
      },
      "execution_count": null,
      "outputs": []
    },
    {
      "cell_type": "markdown",
      "source": [
        "#### Brightness + Contrast"
      ],
      "metadata": {
        "id": "digjaqrlG3Qn"
      }
    },
    {
      "cell_type": "code",
      "source": [
        "dir_brightness_contrast = os.path.join(CHECKPOINT_PATH, \"adam/brightness_contrast/cp_epoch_{epoch:02d}.weights.h5\")\n",
        "\n",
        "checkpoint = tf.keras.callbacks.ModelCheckpoint(filepath=dir_brightness_contrast,\n",
        "                                                 save_weights_only=True,\n",
        "                                                 verbose=1, save_freq=20*bs)\n",
        "\n",
        "early_stopping = tf.keras.callbacks.EarlyStopping(\n",
        "    min_delta=0.001, # minimium amount of change to count as an improvement\n",
        "    patience=40, # how many epochs to wait before stopping\n",
        "    restore_best_weights=True,\n",
        ")\n",
        "\n",
        "# initiate model\n",
        "base_model = tf.keras.applications.efficientnet_v2.EfficientNetV2B0(include_top=False,weights='imagenet',input_shape=(224,224,3),pooling=\"max\",include_preprocessing=False)\n",
        "input = tf.keras.Input(shape=(224,224,3))\n",
        "x = base_model(input)\n",
        "output = tf.keras.layers.Dense(local_classes, activation=\"softmax\")(x)\n",
        "local_adam_brightness_contrast = tf.keras.Model(input, output)\n",
        "\n",
        "# compile loss func\n",
        "local_adam_brightness_contrast.compile(\n",
        "    optimizer='adam',\n",
        "    loss=tf.losses.SparseCategoricalCrossentropy(from_logits=False),\n",
        "    metrics=['accuracy']\n",
        ")"
      ],
      "metadata": {
        "id": "-ETHb4CmG3Qo"
      },
      "execution_count": null,
      "outputs": []
    },
    {
      "cell_type": "code",
      "source": [
        "local_adam_brightness_contrast_hist = local_adam_brightness_contrast.fit(\n",
        "  train_local_brightness_contrast,\n",
        "  epochs = ep_local,\n",
        "  validation_data= val_local_normal,\n",
        "  callbacks=[checkpoint, early_stopping]\n",
        ")"
      ],
      "metadata": {
        "collapsed": true,
        "id": "9H_UQ56mG3Qo"
      },
      "execution_count": null,
      "outputs": []
    },
    {
      "cell_type": "code",
      "source": [
        "local_adam_brightness_contrast.save_weights(os.path.join(CHECKPOINT_PATH, \"adam/brightness_contrast/best.weights.h5\"))\n",
        "\n",
        "plot_history(local_adam_brightness_contrast_hist, \"local\", \"adam\", \"brightness_contrast\")"
      ],
      "metadata": {
        "id": "y7VJvzZAG3Qo"
      },
      "execution_count": null,
      "outputs": []
    },
    {
      "cell_type": "code",
      "source": [
        "calculate_metrics(local_adam_brightness_contrast, test_local_ds, local_ds, local_classes)\n",
        "print('Metric Result - efficientnetM [local data | adam | brightness_contrast]')"
      ],
      "metadata": {
        "id": "OMdIDMlzG3Qo"
      },
      "execution_count": null,
      "outputs": []
    },
    {
      "cell_type": "code",
      "source": [
        "local_adam_brightness_contrast.save('/content/models/EffV2B0-adam-bright-contrast.keras')"
      ],
      "metadata": {
        "id": "N4KM9qBliI6c"
      },
      "execution_count": null,
      "outputs": []
    },
    {
      "cell_type": "markdown",
      "source": [
        "#### Blur + Contrast"
      ],
      "metadata": {
        "id": "eGEOkVYUG3Qo"
      }
    },
    {
      "cell_type": "code",
      "source": [
        "dir_blur_contrast = os.path.join(CHECKPOINT_PATH, \"adam/blur_contrast/cp_epoch_{epoch:02d}.weights.h5\")\n",
        "checkpoint = tf.keras.callbacks.ModelCheckpoint(filepath=dir_blur_contrast,\n",
        "                                                 save_weights_only=True,\n",
        "                                                 verbose=1, save_freq=20*bs)\n",
        "\n",
        "early_stopping = tf.keras.callbacks.EarlyStopping(\n",
        "    min_delta=0.001, # minimium amount of change to count as an improvement\n",
        "    patience=40, # how many epochs to wait before stopping\n",
        "    restore_best_weights=True,\n",
        ")\n",
        "\n",
        "# initiate model\n",
        "base_model = tf.keras.applications.efficientnet_v2.EfficientNetV2B0(include_top=False,weights='imagenet',input_shape=(224,224,3),pooling=\"max\",include_preprocessing=False)\n",
        "input = tf.keras.Input(shape=(224,224,3))\n",
        "x = base_model(input)\n",
        "output = tf.keras.layers.Dense(local_classes, activation=\"softmax\")(x)\n",
        "local_adam_blur_contrast = tf.keras.Model(input, output)\n",
        "\n",
        "# compile loss func\n",
        "local_adam_blur_contrast.compile(\n",
        "    optimizer='adam',\n",
        "    loss=tf.losses.SparseCategoricalCrossentropy(from_logits=False),\n",
        "    metrics=['accuracy']\n",
        ")"
      ],
      "metadata": {
        "id": "3OeFGP_vG3Qp"
      },
      "execution_count": null,
      "outputs": []
    },
    {
      "cell_type": "code",
      "source": [
        "local_adam_blur_contrast_hist = local_adam_blur_contrast.fit(\n",
        "  train_local_blur_contrast,\n",
        "  epochs = ep_local,\n",
        "  validation_data= val_local_normal,\n",
        "  callbacks=[checkpoint, early_stopping]\n",
        ")"
      ],
      "metadata": {
        "id": "hRf6bQEfG3Qp"
      },
      "execution_count": null,
      "outputs": []
    },
    {
      "cell_type": "code",
      "source": [
        "local_adam_blur_contrast.save_weights(os.path.join(CHECKPOINT_PATH, \"adam/blur_contrast/best.weights.h5\"))\n",
        "\n",
        "plot_history(local_adam_blur_contrast_hist, \"local\", \"adam\", \"blur_contrast\")"
      ],
      "metadata": {
        "id": "uONEjUoVG3Qp"
      },
      "execution_count": null,
      "outputs": []
    },
    {
      "cell_type": "code",
      "source": [
        "calculate_metrics(local_adam_blur_contrast, test_local_ds, local_ds, local_classes)\n",
        "print('Metric Result - efficientnetM [local data | adam | blur_contrast]')"
      ],
      "metadata": {
        "id": "uKjZ5mSKG3Qp"
      },
      "execution_count": null,
      "outputs": []
    },
    {
      "cell_type": "code",
      "source": [
        "local_adam_blur_contrast.save('/content/models/EffV2B0-adam-blur-contrast.keras')"
      ],
      "metadata": {
        "id": "PgXzzvxOizuQ"
      },
      "execution_count": null,
      "outputs": []
    },
    {
      "cell_type": "markdown",
      "source": [
        "#### Noise + Contrast"
      ],
      "metadata": {
        "id": "2GSj3wHyG3Qq"
      }
    },
    {
      "cell_type": "code",
      "source": [
        "dir_noise_contrast = os.path.join(CHECKPOINT_PATH, \"adam/noise_contrast/cp_epoch_{epoch:02d}.weights.h5\")\n",
        "\n",
        "checkpoint = tf.keras.callbacks.ModelCheckpoint(filepath=dir_noise_contrast,\n",
        "                                                 save_weights_only=True,\n",
        "                                                 verbose=1, save_freq=20*bs)\n",
        "\n",
        "early_stopping = tf.keras.callbacks.EarlyStopping(\n",
        "    min_delta=0.001, # minimium amount of change to count as an improvement\n",
        "    patience=40, # how many epochs to wait before stopping\n",
        "    restore_best_weights=True,\n",
        ")\n",
        "\n",
        "# initiate model\n",
        "base_model = tf.keras.applications.efficientnet_v2.EfficientNetV2B0(include_top=False,weights='imagenet',input_shape=(224,224,3),pooling=\"max\",include_preprocessing=False)\n",
        "input = tf.keras.Input(shape=(224,224,3))\n",
        "x = base_model(input)\n",
        "output = tf.keras.layers.Dense(local_classes, activation=\"softmax\")(x)\n",
        "local_adam_noise_contrast = tf.keras.Model(input, output)\n",
        "\n",
        "# compile loss func\n",
        "local_adam_noise_contrast.compile(\n",
        "    optimizer='adam',\n",
        "    loss=tf.losses.SparseCategoricalCrossentropy(from_logits=False),\n",
        "    metrics=['accuracy']\n",
        ")"
      ],
      "metadata": {
        "id": "wrWyhEbOG3Qq"
      },
      "execution_count": null,
      "outputs": []
    },
    {
      "cell_type": "code",
      "source": [
        "local_adam_noise_contrast_hist = local_adam_noise_contrast.fit(\n",
        "  train_local_noise_contrast,\n",
        "  epochs = ep_local,\n",
        "  validation_data= val_local_normal,\n",
        "  callbacks=[checkpoint, early_stopping]\n",
        ")"
      ],
      "metadata": {
        "id": "NPn8xUerG3Qq"
      },
      "execution_count": null,
      "outputs": []
    },
    {
      "cell_type": "code",
      "source": [
        "local_adam_noise_contrast.save_weights(os.path.join(CHECKPOINT_PATH, \"adam/noise_contrast/best.weights.h5\"))\n",
        "\n",
        "plot_history(local_adam_noise_contrast_hist, \"local\", \"adam\", \"noise_contrast\")"
      ],
      "metadata": {
        "id": "Z8QDLkW0G3Qq"
      },
      "execution_count": null,
      "outputs": []
    },
    {
      "cell_type": "code",
      "source": [
        "calculate_metrics(local_adam_noise_contrast, test_local_ds, local_ds, local_classes)\n",
        "print('Metric Result - efficientnetM [local data | adam | noise_contrast]')"
      ],
      "metadata": {
        "id": "sej_4FhbG3Qr"
      },
      "execution_count": null,
      "outputs": []
    },
    {
      "cell_type": "code",
      "source": [
        "local_adam_noise_contrast.save('/content/models/EffV2B0-adam-noise-contrast.keras')"
      ],
      "metadata": {
        "id": "gHWNusn2i6G-"
      },
      "execution_count": null,
      "outputs": []
    },
    {
      "cell_type": "markdown",
      "source": [
        "### sgd LOSS"
      ],
      "metadata": {
        "id": "HKi2VI1jG3Qr"
      }
    },
    {
      "cell_type": "markdown",
      "source": [
        "#### Brightness + Blur"
      ],
      "metadata": {
        "id": "vhHhy2nTG3Qr"
      }
    },
    {
      "cell_type": "code",
      "source": [
        "dir_blur_contrast = os.path.join(CHECKPOINT_PATH, \"sgd/brightness_blur/cp_epoch_{epoch:02d}.weights.h5\")\n",
        "\n",
        "checkpoint = tf.keras.callbacks.ModelCheckpoint(filepath=dir_brightness_blur,\n",
        "                                                 save_weights_only=True,\n",
        "                                                 verbose=1, save_freq=20*bs)\n",
        "\n",
        "early_stopping = tf.keras.callbacks.EarlyStopping(\n",
        "    min_delta=0.001, # minimium amount of change to count as an improvement\n",
        "    patience=40, # how many epochs to wait before stopping\n",
        "    restore_best_weights=True,\n",
        ")\n",
        "\n",
        "# initiate model\n",
        "base_model = tf.keras.applications.efficientnet_v2.EfficientNetV2B0(include_top=False,weights='imagenet',input_shape=(224,224,3),pooling=\"max\",include_preprocessing=False)\n",
        "input = tf.keras.Input(shape=(224,224,3))\n",
        "x = base_model(input)\n",
        "output = tf.keras.layers.Dense(local_classes, activation=\"softmax\")(x)\n",
        "local_sgd_brightness_blur = tf.keras.Model(input, output)\n",
        "\n",
        "# compile loss func\n",
        "local_sgd_brightness_blur.compile(\n",
        "    optimizer='sgd',\n",
        "    loss=tf.losses.SparseCategoricalCrossentropy(from_logits=False),\n",
        "    metrics=['accuracy']\n",
        ")"
      ],
      "metadata": {
        "id": "ZlDRVC9mG3Qr"
      },
      "execution_count": null,
      "outputs": []
    },
    {
      "cell_type": "code",
      "source": [
        "local_sgd_brightness_blur_hist = local_sgd_brightness_blur.fit(\n",
        "  train_local_brightness_blur,\n",
        "  epochs = ep_local,\n",
        "  validation_data= val_local_normal,\n",
        "  callbacks=[checkpoint, early_stopping]\n",
        ")"
      ],
      "metadata": {
        "id": "8Un3zyJyG3Qs"
      },
      "execution_count": null,
      "outputs": []
    },
    {
      "cell_type": "code",
      "source": [
        "local_sgd_brightness_blur.save_weights(os.path.join(CHECKPOINT_PATH, \"sgd/brightness_blur/best.weights.h5\"))\n",
        "\n",
        "plot_history(local_sgd_brightness_blur_hist, \"local\", \"sgd\", \"brightness_blur\")"
      ],
      "metadata": {
        "id": "Gu65mCLcG3Qs"
      },
      "execution_count": null,
      "outputs": []
    },
    {
      "cell_type": "code",
      "source": [
        "calculate_metrics(local_sgd_brightness_blur, test_local_ds, local_ds, local_classes)\n",
        "print('Metric Result - efficientnetM [local data | sgd | brightness_blur]')"
      ],
      "metadata": {
        "id": "chh_Do_3G3Qs"
      },
      "execution_count": null,
      "outputs": []
    },
    {
      "cell_type": "code",
      "source": [
        "local_sgd_brightness_blur.save('/content/models/EffV2B0-sgd-bright-blur.keras')"
      ],
      "metadata": {
        "id": "e80keelckBrf"
      },
      "execution_count": null,
      "outputs": []
    },
    {
      "cell_type": "markdown",
      "source": [
        "#### Brightness + Noise"
      ],
      "metadata": {
        "id": "6mNEYoK3G3Qt"
      }
    },
    {
      "cell_type": "code",
      "source": [
        "dir_brightness_noise = os.path.join(CHECKPOINT_PATH, \"sgd/brightness_noise/cp_epoch_{epoch:02d}.weights.h5\")\n",
        "\n",
        "checkpoint = tf.keras.callbacks.ModelCheckpoint(filepath=dir_brightness_noise,\n",
        "                                                 save_weights_only=True,\n",
        "                                                 verbose=1, save_freq=20*bs)\n",
        "\n",
        "early_stopping = tf.keras.callbacks.EarlyStopping(\n",
        "    min_delta=0.001, # minimium amount of change to count as an improvement\n",
        "    patience=40, # how many epochs to wait before stopping\n",
        "    restore_best_weights=True,\n",
        ")\n",
        "\n",
        "# initiate model\n",
        "base_model = tf.keras.applications.efficientnet_v2.EfficientNetV2B0(include_top=False,weights='imagenet',input_shape=(224,224,3),pooling=\"max\",include_preprocessing=False)\n",
        "input = tf.keras.Input(shape=(224,224,3))\n",
        "x = base_model(input)\n",
        "output = tf.keras.layers.Dense(local_classes, activation=\"softmax\")(x)\n",
        "local_sgd_brightness_noise = tf.keras.Model(input, output)\n",
        "\n",
        "# compile loss func\n",
        "local_sgd_brightness_noise.compile(\n",
        "    optimizer='sgd',\n",
        "    loss=tf.losses.SparseCategoricalCrossentropy(from_logits=False),\n",
        "    metrics=['accuracy']\n",
        ")"
      ],
      "metadata": {
        "id": "xE5udmAFG3Qt"
      },
      "execution_count": null,
      "outputs": []
    },
    {
      "cell_type": "code",
      "source": [
        "local_sgd_brightness_noise_hist = local_sgd_brightness_noise.fit(\n",
        "  train_local_brightness_noise,\n",
        "  epochs = ep_local,\n",
        "  validation_data= val_local_normal,\n",
        "  callbacks=[checkpoint, early_stopping]\n",
        ")"
      ],
      "metadata": {
        "id": "A6ZRvf5ZG3Qt"
      },
      "execution_count": null,
      "outputs": []
    },
    {
      "cell_type": "code",
      "source": [
        "local_sgd_brightness_noise.save_weights(os.path.join(CHECKPOINT_PATH, \"sgd/brightness_noise/best.weights.h5\"))\n",
        "\n",
        "plot_history(local_sgd_brightness_noise_hist, \"local\", \"sgd\", \"brightness_noise\")"
      ],
      "metadata": {
        "id": "tl-Y8KGpG3Qt"
      },
      "execution_count": null,
      "outputs": []
    },
    {
      "cell_type": "code",
      "source": [
        "calculate_metrics(local_sgd_brightness_noise, test_local_ds, local_ds, local_classes)\n",
        "print('Metric Result - efficientnetM [local data | sgd | brightness_noise]')"
      ],
      "metadata": {
        "id": "NV8COad6G3Qu"
      },
      "execution_count": null,
      "outputs": []
    },
    {
      "cell_type": "code",
      "source": [
        "local_sgd_brightness_noise.save('/content/models/EffV2B0-sgd-bright-noise.keras')"
      ],
      "metadata": {
        "id": "4GoCUhqdkJti"
      },
      "execution_count": null,
      "outputs": []
    },
    {
      "cell_type": "markdown",
      "source": [
        "#### Blur + Noise"
      ],
      "metadata": {
        "id": "XeHHotMrG3Qv"
      }
    },
    {
      "cell_type": "code",
      "source": [
        "dir_blur_noise = os.path.join(CHECKPOINT_PATH, \"sgd/blur_noise/cp_epoch_{epoch:02d}.weights.h5\")\n",
        "\n",
        "checkpoint = tf.keras.callbacks.ModelCheckpoint(filepath=dir_blur_noise,\n",
        "                                                 save_weights_only=True,\n",
        "                                                 verbose=1, save_freq=20*bs)\n",
        "\n",
        "early_stopping = tf.keras.callbacks.EarlyStopping(\n",
        "    min_delta=0.001, # minimium amount of change to count as an improvement\n",
        "    patience=40, # how many epochs to wait before stopping\n",
        "    restore_best_weights=True,\n",
        ")\n",
        "\n",
        "# initiate model\n",
        "base_model = tf.keras.applications.efficientnet_v2.EfficientNetV2B0(include_top=False,weights='imagenet',input_shape=(224,224,3),pooling=\"max\",include_preprocessing=False)\n",
        "input = tf.keras.Input(shape=(224,224,3))\n",
        "x = base_model(input)\n",
        "output = tf.keras.layers.Dense(local_classes, activation=\"softmax\")(x)\n",
        "local_sgd_blur_noise = tf.keras.Model(input, output)\n",
        "\n",
        "# compile loss func\n",
        "local_sgd_blur_noise.compile(\n",
        "    optimizer='sgd',\n",
        "    loss=tf.losses.SparseCategoricalCrossentropy(from_logits=False),\n",
        "    metrics=['accuracy']\n",
        ")"
      ],
      "metadata": {
        "id": "Zn0dFG2jG3Qv"
      },
      "execution_count": null,
      "outputs": []
    },
    {
      "cell_type": "code",
      "source": [
        "local_sgd_blur_noise_hist = local_sgd_blur_noise.fit(\n",
        "  train_local_blur_noise,\n",
        "  epochs = ep_local,\n",
        "  validation_data= val_local_normal,\n",
        "  callbacks=[checkpoint, early_stopping]\n",
        ")"
      ],
      "metadata": {
        "id": "FjhAJZCFG3Qv"
      },
      "execution_count": null,
      "outputs": []
    },
    {
      "cell_type": "code",
      "source": [
        "local_sgd_blur_noise.save_weights(os.path.join(CHECKPOINT_PATH, \"sgd/blur_noise/best.weights.h5\"))\n",
        "\n",
        "plot_history(local_sgd_blur_noise_hist, \"local\", \"sgd\", \"blur_noise\")"
      ],
      "metadata": {
        "id": "ObEdVB0GG3Qv"
      },
      "execution_count": null,
      "outputs": []
    },
    {
      "cell_type": "code",
      "source": [
        "calculate_metrics(local_sgd_blur_noise, test_local_ds, local_ds, local_classes)\n",
        "print('Metric Result - efficientnetM [local data | sgd | blur_noise]')"
      ],
      "metadata": {
        "id": "Wthuo9mtG3Qw"
      },
      "execution_count": null,
      "outputs": []
    },
    {
      "cell_type": "code",
      "source": [
        "local_sgd_blur_noise.save('/content/models/EffV2B0-sgd-blur-noise.keras')"
      ],
      "metadata": {
        "id": "5b0QBLDLkMZ9"
      },
      "execution_count": null,
      "outputs": []
    },
    {
      "cell_type": "markdown",
      "source": [
        "#### Brightness + Contrast"
      ],
      "metadata": {
        "id": "LqzJ5HgGG3Qw"
      }
    },
    {
      "cell_type": "code",
      "source": [
        "dir_brightness_contrast = os.path.join(CHECKPOINT_PATH, \"sgd/brightness_contrast/cp_epoch_{epoch:02d}.weights.h5\")\n",
        "\n",
        "checkpoint = tf.keras.callbacks.ModelCheckpoint(filepath=dir_brightness_contrast,\n",
        "                                                 save_weights_only=True,\n",
        "                                                 verbose=1, save_freq=20*bs)\n",
        "\n",
        "early_stopping = tf.keras.callbacks.EarlyStopping(\n",
        "    min_delta=0.001, # minimium amount of change to count as an improvement\n",
        "    patience=40, # how many epochs to wait before stopping\n",
        "    restore_best_weights=True,\n",
        ")\n",
        "\n",
        "# initiate model\n",
        "base_model = tf.keras.applications.efficientnet_v2.EfficientNetV2B0(include_top=False,weights='imagenet',input_shape=(224,224,3),pooling=\"max\",include_preprocessing=False)\n",
        "input = tf.keras.Input(shape=(224,224,3))\n",
        "x = base_model(input)\n",
        "output = tf.keras.layers.Dense(local_classes, activation=\"softmax\")(x)\n",
        "local_sgd_brightness_contrast = tf.keras.Model(input, output)\n",
        "\n",
        "# compile loss func\n",
        "local_sgd_brightness_contrast.compile(\n",
        "    optimizer='sgd',\n",
        "    loss=tf.losses.SparseCategoricalCrossentropy(from_logits=False),\n",
        "    metrics=['accuracy']\n",
        ")"
      ],
      "metadata": {
        "id": "cFbfNqfNG3Qw"
      },
      "execution_count": null,
      "outputs": []
    },
    {
      "cell_type": "code",
      "source": [
        "local_sgd_brightness_contrast_hist = local_sgd_brightness_contrast.fit(\n",
        "  train_local_brightness_contrast,\n",
        "  epochs = ep_local,\n",
        "  validation_data= val_local_normal,\n",
        "  callbacks=[checkpoint, early_stopping]\n",
        ")"
      ],
      "metadata": {
        "id": "XEhIzfuVG3Qw"
      },
      "execution_count": null,
      "outputs": []
    },
    {
      "cell_type": "code",
      "source": [
        "local_sgd_brightness_contrast.save_weights(os.path.join(CHECKPOINT_PATH, \"sgd/brightness_contrast/best.weights.h5\"))\n",
        "\n",
        "plot_history(local_sgd_brightness_contrast_hist, \"local\", \"sgd\", \"brightness_contrast\")"
      ],
      "metadata": {
        "id": "-FOLyaHlG3Qx"
      },
      "execution_count": null,
      "outputs": []
    },
    {
      "cell_type": "code",
      "source": [
        "calculate_metrics(local_sgd_brightness_contrast, test_local_ds, local_ds, local_classes)\n",
        "print('Metric Result - efficientnetM [local data | sgd | brightness_contrast]')"
      ],
      "metadata": {
        "id": "1zJwq54SG3Qx"
      },
      "execution_count": null,
      "outputs": []
    },
    {
      "cell_type": "code",
      "source": [
        "local_sgd_brightness_contrast.save('/content/models/EffV2B0-sgd-bright-contrast.keras')"
      ],
      "metadata": {
        "id": "38N7Zh_BkO-2"
      },
      "execution_count": null,
      "outputs": []
    },
    {
      "cell_type": "markdown",
      "source": [
        "#### Blur + Contrast"
      ],
      "metadata": {
        "id": "3DkWXoiIG3Qx"
      }
    },
    {
      "cell_type": "code",
      "source": [
        "dir_blur_contrast = os.path.join(CHECKPOINT_PATH, \"sgd/blur_contrast/cp_epoch_{epoch:02d}.weights.h5\")\n",
        "\n",
        "checkpoint = tf.keras.callbacks.ModelCheckpoint(filepath=dir_blur_contrast,\n",
        "                                                 save_weights_only=True,\n",
        "                                                 verbose=1, save_freq=20*bs)\n",
        "\n",
        "early_stopping = tf.keras.callbacks.EarlyStopping(\n",
        "    min_delta=0.001, # minimium amount of change to count as an improvement\n",
        "    patience=40, # how many epochs to wait before stopping\n",
        "    restore_best_weights=True,\n",
        ")\n",
        "\n",
        "# initiate model\n",
        "base_model = tf.keras.applications.efficientnet_v2.EfficientNetV2B0(include_top=False,weights='imagenet',input_shape=(224,224,3),pooling=\"max\",include_preprocessing=False)\n",
        "input = tf.keras.Input(shape=(224,224,3))\n",
        "x = base_model(input)\n",
        "output = tf.keras.layers.Dense(local_classes, activation=\"softmax\")(x)\n",
        "local_sgd_blur_contrast = tf.keras.Model(input, output)\n",
        "\n",
        "# compile loss func\n",
        "local_sgd_blur_contrast.compile(\n",
        "    optimizer='sgd',\n",
        "    loss=tf.losses.SparseCategoricalCrossentropy(from_logits=False),\n",
        "    metrics=['accuracy']\n",
        ")"
      ],
      "metadata": {
        "id": "Nby0vuz5G3Qy"
      },
      "execution_count": null,
      "outputs": []
    },
    {
      "cell_type": "code",
      "source": [
        "local_sgd_blur_contrast_hist = local_sgd_blur_contrast.fit(\n",
        "  train_local_blur_contrast,\n",
        "  epochs = ep_local,\n",
        "  validation_data= val_local_normal,\n",
        "  callbacks=[checkpoint, early_stopping]\n",
        ")"
      ],
      "metadata": {
        "id": "x8OBlQ1tG3Qy"
      },
      "execution_count": null,
      "outputs": []
    },
    {
      "cell_type": "code",
      "source": [
        "local_sgd_blur_contrast.save_weights(os.path.join(CHECKPOINT_PATH, \"sgd/blur_contrast/best.weights.h5\"))\n",
        "plot_history(local_sgd_blur_contrast_hist, \"local\", \"sgd\", \"blur_contrast\")"
      ],
      "metadata": {
        "id": "Wu-iQYNZG3Qy"
      },
      "execution_count": null,
      "outputs": []
    },
    {
      "cell_type": "code",
      "source": [
        "calculate_metrics(local_sgd_blur_contrast, test_local_ds, local_ds, local_classes)\n",
        "print('Metric Result - efficientnetM [local data | sgd | blur_contrast]')"
      ],
      "metadata": {
        "id": "n8WplpBXG3Qy"
      },
      "execution_count": null,
      "outputs": []
    },
    {
      "cell_type": "code",
      "source": [
        "local_sgd_blur_contrast.save('/content/models/EffV2B0-sgd-blur-contrast.keras')"
      ],
      "metadata": {
        "id": "ivyTmV1HkpwN"
      },
      "execution_count": null,
      "outputs": []
    },
    {
      "cell_type": "markdown",
      "source": [
        "#### Noise + Contrast"
      ],
      "metadata": {
        "id": "nf_RIfo5G3Qz"
      }
    },
    {
      "cell_type": "code",
      "source": [
        "dir_blur_contrast = os.path.join(CHECKPOINT_PATH, \"sgd/noise_contrast/cp_epoch_{epoch:02d}.weights.h5\")\n",
        "\n",
        "checkpoint = tf.keras.callbacks.ModelCheckpoint(filepath=dir_noise_contrast,\n",
        "                                                 save_weights_only=True,\n",
        "                                                 verbose=1, save_freq=20*bs)\n",
        "\n",
        "early_stopping = tf.keras.callbacks.EarlyStopping(\n",
        "    min_delta=0.001, # minimium amount of change to count as an improvement\n",
        "    patience=40, # how many epochs to wait before stopping\n",
        "    restore_best_weights=True,\n",
        ")\n",
        "\n",
        "# initiate model\n",
        "base_model = tf.keras.applications.efficientnet_v2.EfficientNetV2B0(include_top=False,weights='imagenet',input_shape=(224,224,3),pooling=\"max\",include_preprocessing=False)\n",
        "input = tf.keras.Input(shape=(224,224,3))\n",
        "x = base_model(input)\n",
        "output = tf.keras.layers.Dense(local_classes, activation=\"softmax\")(x)\n",
        "local_sgd_noise_contrast = tf.keras.Model(input, output)\n",
        "\n",
        "# compile loss func\n",
        "local_sgd_noise_contrast.compile(\n",
        "    optimizer='sgd',\n",
        "    loss=tf.losses.SparseCategoricalCrossentropy(from_logits=False),\n",
        "    metrics=['accuracy']\n",
        ")"
      ],
      "metadata": {
        "id": "80EZRArAG3Qz"
      },
      "execution_count": null,
      "outputs": []
    },
    {
      "cell_type": "code",
      "source": [
        "local_sgd_noise_contrast_hist = local_sgd_noise_contrast.fit(\n",
        "  train_local_noise_contrast,\n",
        "  epochs = ep_local,\n",
        "  validation_data= val_local_normal,\n",
        "  callbacks=[checkpoint, early_stopping]\n",
        ")"
      ],
      "metadata": {
        "id": "p8IPlm_iG3Qz"
      },
      "execution_count": null,
      "outputs": []
    },
    {
      "cell_type": "code",
      "source": [
        "local_sgd_noise_contrast.save_weights(os.path.join(CHECKPOINT_PATH, \"sgd/noise_contrast/best.weights.h5\"))\n",
        "\n",
        "plot_history(local_sgd_noise_contrast_hist, \"local\", \"sgd\", \"noise_contrast\")"
      ],
      "metadata": {
        "id": "XfF9dZVVG3Qz"
      },
      "execution_count": null,
      "outputs": []
    },
    {
      "cell_type": "code",
      "source": [
        "calculate_metrics(local_sgd_noise_contrast, test_local_ds, local_ds, local_classes)\n",
        "print('Metric Result - efficientnetM [local data | sgd | noise_contrast]')"
      ],
      "metadata": {
        "id": "U4ObXk_OG3Q0"
      },
      "execution_count": null,
      "outputs": []
    },
    {
      "cell_type": "code",
      "source": [
        "local_sgd_noise_contrast.save('/content/models/EffV2B0-sgd-noise-contrast.keras')"
      ],
      "metadata": {
        "id": "xl_-6gh7k07c"
      },
      "execution_count": null,
      "outputs": []
    },
    {
      "cell_type": "markdown",
      "source": [
        "### rmsprop LOSS"
      ],
      "metadata": {
        "id": "CXoNOHy4z3ir"
      }
    },
    {
      "cell_type": "markdown",
      "source": [
        "#### Brightness + Blur"
      ],
      "metadata": {
        "id": "YHKlCs9zz3is"
      }
    },
    {
      "cell_type": "code",
      "source": [
        "dir_brightness_blur = os.path.join(CHECKPOINT_PATH, \"rmsprop/brightness_blur/cp_epoch_{epoch:02d}.weights.h5\")\n",
        "\n",
        "checkpoint = tf.keras.callbacks.ModelCheckpoint(filepath=dir_brightness_blur,\n",
        "                                                 save_weights_only=True,\n",
        "                                                 verbose=1, save_freq=20*bs)\n",
        "\n",
        "early_stopping = tf.keras.callbacks.EarlyStopping(\n",
        "    min_delta=0.001, # minimium amount of change to count as an improvement\n",
        "    patience=40, # how many epochs to wait before stopping\n",
        "    restore_best_weights=True,\n",
        ")\n",
        "\n",
        "# initiate model\n",
        "base_model = tf.keras.applications.efficientnet_v2.EfficientNetV2B0(include_top=False,weights='imagenet',input_shape=(224,224,3),pooling=\"max\",include_preprocessing=False)\n",
        "input = tf.keras.Input(shape=(224,224,3))\n",
        "x = base_model(input)\n",
        "output = tf.keras.layers.Dense(local_classes, activation=\"softmax\")(x)\n",
        "local_rmsprop_brightness_blur = tf.keras.Model(input, output)\n",
        "\n",
        "# compile loss func\n",
        "local_rmsprop_brightness_blur.compile(\n",
        "    optimizer='rmsprop',\n",
        "    loss=tf.losses.SparseCategoricalCrossentropy(from_logits=False),\n",
        "    metrics=['accuracy']\n",
        ")"
      ],
      "metadata": {
        "id": "961p3cRuz3is"
      },
      "execution_count": null,
      "outputs": []
    },
    {
      "cell_type": "code",
      "source": [
        "local_rmsprop_brightness_blur_hist = local_rmsprop_brightness_blur.fit(\n",
        "  train_local_brightness_blur,\n",
        "  epochs = ep_local,\n",
        "  validation_data= val_local_normal,\n",
        "  callbacks=[checkpoint, early_stopping]\n",
        ")"
      ],
      "metadata": {
        "id": "yhTAfPhcz3is"
      },
      "execution_count": null,
      "outputs": []
    },
    {
      "cell_type": "code",
      "source": [
        "local_rmsprop_brightness_blur.save_weights(os.path.join(CHECKPOINT_PATH, \"rmsprop/brightness_blur/best.weights.h5\"))\n",
        "\n",
        "plot_history(local_rmsprop_brightness_blur_hist, \"local\", \"rmsprop\", \"brightness_blur\")"
      ],
      "metadata": {
        "id": "BtSgPkocz3is"
      },
      "execution_count": null,
      "outputs": []
    },
    {
      "cell_type": "code",
      "source": [
        "calculate_metrics(local_rmsprop_brightness_blur, test_local_ds, local_ds, local_classes)\n",
        "print('Metric Result - efficientnetM [local data | rmsprop | brightness_blur]')"
      ],
      "metadata": {
        "id": "u5qsgjLBz3is"
      },
      "execution_count": null,
      "outputs": []
    },
    {
      "cell_type": "code",
      "source": [
        "local_rmsprop_brightness_blur.save('/content/models/EffV2B0-rms-bright-blur.keras')"
      ],
      "metadata": {
        "id": "d4RpZvzs84a9"
      },
      "execution_count": null,
      "outputs": []
    },
    {
      "cell_type": "markdown",
      "source": [
        "#### Brightness + Noise"
      ],
      "metadata": {
        "id": "kX6sgokCz3is"
      }
    },
    {
      "cell_type": "code",
      "source": [
        "dir_brightness_noise = os.path.join(CHECKPOINT_PATH, \"rmsprop/brightness_noise/cp_epoch_{epoch:02d}.weights.h5\")\n",
        "\n",
        "checkpoint = tf.keras.callbacks.ModelCheckpoint(filepath=dir_brightness_noise,\n",
        "                                                 save_weights_only=True,\n",
        "                                                 verbose=1, save_freq=20*bs)\n",
        "\n",
        "early_stopping = tf.keras.callbacks.EarlyStopping(\n",
        "    min_delta=0.001, # minimium amount of change to count as an improvement\n",
        "    patience=40, # how many epochs to wait before stopping\n",
        "    restore_best_weights=True,\n",
        ")\n",
        "\n",
        "# initiate model\n",
        "base_model = tf.keras.applications.efficientnet_v2.EfficientNetV2B0(include_top=False,weights='imagenet',input_shape=(224,224,3),pooling=\"max\",include_preprocessing=False)\n",
        "input = tf.keras.Input(shape=(224,224,3))\n",
        "x = base_model(input)\n",
        "output = tf.keras.layers.Dense(local_classes, activation=\"softmax\")(x)\n",
        "local_rmsprop_brightness_noise = tf.keras.Model(input, output)\n",
        "\n",
        "# compile loss func\n",
        "local_rmsprop_brightness_noise.compile(\n",
        "    optimizer='rmsprop',\n",
        "    loss=tf.losses.SparseCategoricalCrossentropy(from_logits=False),\n",
        "    metrics=['accuracy']\n",
        ")"
      ],
      "metadata": {
        "id": "bvD57yJcz3it"
      },
      "execution_count": null,
      "outputs": []
    },
    {
      "cell_type": "code",
      "source": [
        "local_rmsprop_brightness_noise_hist = local_rmsprop_brightness_noise.fit(\n",
        "  train_local_brightness_noise,\n",
        "  epochs = ep_local,\n",
        "  validation_data= val_local_normal,\n",
        "  callbacks=[checkpoint, early_stopping]\n",
        ")"
      ],
      "metadata": {
        "id": "Sea_OngLz3it"
      },
      "execution_count": null,
      "outputs": []
    },
    {
      "cell_type": "code",
      "source": [
        "local_rmsprop_brightness_noise.save_weights(os.path.join(CHECKPOINT_PATH, \"rmsprop/brightness_noise/best.weights.h5\"))\n",
        "\n",
        "plot_history(local_rmsprop_brightness_noise_hist, \"local\", \"rmsprop\", \"brightness_noise\")"
      ],
      "metadata": {
        "id": "ILwB3Qx3z3it"
      },
      "execution_count": null,
      "outputs": []
    },
    {
      "cell_type": "code",
      "source": [
        "calculate_metrics(local_rmsprop_brightness_noise, test_local_ds, local_ds, local_classes)\n",
        "print('Metric Result - efficientnetM [local data | rmsprop | brightness_noise]')"
      ],
      "metadata": {
        "id": "Q7mLaF-kz3it"
      },
      "execution_count": null,
      "outputs": []
    },
    {
      "cell_type": "code",
      "source": [
        "local_rmsprop_brightness_noise.save('/content/models/EffV2B0-rms-bright-noise.keras')"
      ],
      "metadata": {
        "id": "hiqROpq_88nu"
      },
      "execution_count": null,
      "outputs": []
    },
    {
      "cell_type": "markdown",
      "source": [
        "#### Blur + Noise"
      ],
      "metadata": {
        "id": "A7HBe5Gsz3it"
      }
    },
    {
      "cell_type": "code",
      "source": [
        "dir_brightness_noise = os.path.join(CHECKPOINT_PATH, \"rmsprop/blur_noise/cp_epoch_{epoch:02d}.weights.h5\")\n",
        "\n",
        "checkpoint = tf.keras.callbacks.ModelCheckpoint(filepath=dir_blur_noise,\n",
        "                                                 save_weights_only=True,\n",
        "                                                 verbose=1, save_freq=20*bs)\n",
        "\n",
        "early_stopping = tf.keras.callbacks.EarlyStopping(\n",
        "    min_delta=0.001, # minimium amount of change to count as an improvement\n",
        "    patience=40, # how many epochs to wait before stopping\n",
        "    restore_best_weights=True,\n",
        ")\n",
        "\n",
        "# initiate model\n",
        "base_model = tf.keras.applications.efficientnet_v2.EfficientNetV2B0(include_top=False,weights='imagenet',input_shape=(224,224,3),pooling=\"max\",include_preprocessing=False)\n",
        "input = tf.keras.Input(shape=(224,224,3))\n",
        "x = base_model(input)\n",
        "output = tf.keras.layers.Dense(local_classes, activation=\"softmax\")(x)\n",
        "local_rmsprop_blur_noise = tf.keras.Model(input, output)\n",
        "\n",
        "# compile loss func\n",
        "local_rmsprop_blur_noise.compile(\n",
        "    optimizer='rmsprop',\n",
        "    loss=tf.losses.SparseCategoricalCrossentropy(from_logits=False),\n",
        "    metrics=['accuracy']\n",
        ")"
      ],
      "metadata": {
        "id": "XmX5iCxxz3it"
      },
      "execution_count": null,
      "outputs": []
    },
    {
      "cell_type": "code",
      "source": [
        "local_rmsprop_blur_noise_hist = local_rmsprop_blur_noise.fit(\n",
        "  train_local_blur_noise,\n",
        "  epochs = ep_local,\n",
        "  validation_data= val_local_normal,\n",
        "  callbacks=[checkpoint, early_stopping]\n",
        ")"
      ],
      "metadata": {
        "id": "j7MlhNXEz3iu"
      },
      "execution_count": null,
      "outputs": []
    },
    {
      "cell_type": "code",
      "source": [
        "local_rmsprop_blur_noise.save_weights(os.path.join(CHECKPOINT_PATH, \"rmsprop/blur_noise/best.weights.h5\"))\n",
        "\n",
        "plot_history(local_rmsprop_blur_noise_hist, \"local\", \"rmsprop\", \"blur_noise\")"
      ],
      "metadata": {
        "id": "_CV8mpBmz3iv"
      },
      "execution_count": null,
      "outputs": []
    },
    {
      "cell_type": "code",
      "source": [
        "calculate_metrics(local_rmsprop_blur_noise, test_local_ds, local_ds, local_classes)\n",
        "print('Metric Result - efficientnetM [local data | rmsprop | blur_noise]')"
      ],
      "metadata": {
        "id": "JjzZxoQUz3iv"
      },
      "execution_count": null,
      "outputs": []
    },
    {
      "cell_type": "code",
      "source": [
        "local_rmsprop_blur_noise.save('/content/models/EffV2B0-rms-blur-noise.keras')"
      ],
      "metadata": {
        "id": "jJY56yZp8_Q8"
      },
      "execution_count": null,
      "outputs": []
    },
    {
      "cell_type": "markdown",
      "source": [
        "#### Brightness + Contrast"
      ],
      "metadata": {
        "id": "tRmx8IEkz3iv"
      }
    },
    {
      "cell_type": "code",
      "source": [
        "dir_brightness_contrast = os.path.join(CHECKPOINT_PATH, \"rmsprop/brightness_contrast/cp_epoch_{epoch:02d}.weights.h5\")\n",
        "\n",
        "checkpoint = tf.keras.callbacks.ModelCheckpoint(filepath=dir_brightness_contrast,\n",
        "                                                 save_weights_only=True,\n",
        "                                                 verbose=1, save_freq=20*bs)\n",
        "\n",
        "early_stopping = tf.keras.callbacks.EarlyStopping(\n",
        "    min_delta=0.001, # minimium amount of change to count as an improvement\n",
        "    patience=40, # how many epochs to wait before stopping\n",
        "    restore_best_weights=True,\n",
        ")\n",
        "\n",
        "# initiate model\n",
        "base_model = tf.keras.applications.efficientnet_v2.EfficientNetV2B0(include_top=False,weights='imagenet',input_shape=(224,224,3),pooling=\"max\",include_preprocessing=False)\n",
        "input = tf.keras.Input(shape=(224,224,3))\n",
        "x = base_model(input)\n",
        "output = tf.keras.layers.Dense(local_classes, activation=\"softmax\")(x)\n",
        "local_rmsprop_brightness_contrast = tf.keras.Model(input, output)\n",
        "\n",
        "# compile loss func\n",
        "local_rmsprop_brightness_contrast.compile(\n",
        "    optimizer='rmsprop',\n",
        "    loss=tf.losses.SparseCategoricalCrossentropy(from_logits=False),\n",
        "    metrics=['accuracy']\n",
        ")"
      ],
      "metadata": {
        "id": "fkxkW1XKz3iv"
      },
      "execution_count": null,
      "outputs": []
    },
    {
      "cell_type": "code",
      "source": [
        "local_rmsprop_brightness_contrast_hist = local_rmsprop_brightness_contrast.fit(\n",
        "  train_local_brightness_contrast,\n",
        "  epochs = ep_local,\n",
        "  validation_data= val_local_normal,\n",
        "  callbacks=[checkpoint, early_stopping]\n",
        ")"
      ],
      "metadata": {
        "id": "WgG4tx6Xz3iv"
      },
      "execution_count": null,
      "outputs": []
    },
    {
      "cell_type": "code",
      "source": [
        "local_rmsprop_brightness_contrast.save_weights(os.path.join(CHECKPOINT_PATH, \"rmsprop/brightness_contrast/best.weights.h5\"))\n",
        "\n",
        "plot_history(local_rmsprop_brightness_contrast_hist, \"local\", \"rmsprop\", \"brightness_contrast\")"
      ],
      "metadata": {
        "id": "b41zMgeyz3iv"
      },
      "execution_count": null,
      "outputs": []
    },
    {
      "cell_type": "code",
      "source": [
        "calculate_metrics(local_rmsprop_brightness_contrast, test_local_ds, local_ds, local_classes)\n",
        "print('Metric Result - efficientnetM [local data | rmsprop | brightness_contrast]')"
      ],
      "metadata": {
        "id": "9WGJl3pLz3iw"
      },
      "execution_count": null,
      "outputs": []
    },
    {
      "cell_type": "code",
      "source": [
        "local_rmsprop_brightness_contrast.save('/content/models/EffV2B0-rms-bright-contrast.keras')"
      ],
      "metadata": {
        "id": "YacSvcHN9BrJ"
      },
      "execution_count": null,
      "outputs": []
    },
    {
      "cell_type": "markdown",
      "source": [
        "#### Blur + Contrast"
      ],
      "metadata": {
        "id": "LAAjn1RBz3iw"
      }
    },
    {
      "cell_type": "code",
      "source": [
        "dir_blur_contrast = os.path.join(CHECKPOINT_PATH, \"rmsprop/blur_contrast/cp_epoch_{epoch:02d}.weights.h5\")\n",
        "\n",
        "checkpoint = tf.keras.callbacks.ModelCheckpoint(filepath=dir_blur_contrast,\n",
        "                                                 save_weights_only=True,\n",
        "                                                 verbose=1, save_freq=20*bs)\n",
        "\n",
        "early_stopping = tf.keras.callbacks.EarlyStopping(\n",
        "    min_delta=0.001, # minimium amount of change to count as an improvement\n",
        "    patience=40, # how many epochs to wait before stopping\n",
        "    restore_best_weights=True,\n",
        ")\n",
        "\n",
        "# initiate model\n",
        "base_model = tf.keras.applications.efficientnet_v2.EfficientNetV2B0(include_top=False,weights='imagenet',input_shape=(224,224,3),pooling=\"max\",include_preprocessing=False)\n",
        "input = tf.keras.Input(shape=(224,224,3))\n",
        "x = base_model(input)\n",
        "output = tf.keras.layers.Dense(local_classes, activation=\"softmax\")(x)\n",
        "local_rmsprop_blur_contrast = tf.keras.Model(input, output)\n",
        "\n",
        "# compile loss func\n",
        "local_rmsprop_blur_contrast.compile(\n",
        "    optimizer='rmsprop',\n",
        "    loss=tf.losses.SparseCategoricalCrossentropy(from_logits=False),\n",
        "    metrics=['accuracy']\n",
        ")"
      ],
      "metadata": {
        "id": "nm-nDpEOz3iw"
      },
      "execution_count": null,
      "outputs": []
    },
    {
      "cell_type": "code",
      "source": [
        "local_rmsprop_blur_contrast_hist = local_rmsprop_blur_contrast.fit(\n",
        "  train_local_blur_contrast,\n",
        "  epochs = ep_local,\n",
        "  validation_data= val_local_normal,\n",
        "  callbacks=[checkpoint, early_stopping]\n",
        ")"
      ],
      "metadata": {
        "id": "SM-HD0lpz3iw"
      },
      "execution_count": null,
      "outputs": []
    },
    {
      "cell_type": "code",
      "source": [
        "local_rmsprop_blur_contrast.save_weights(os.path.join(CHECKPOINT_PATH, \"rmsprop/blur_contrast/best.weights.h5\"))\n",
        "\n",
        "plot_history(local_rmsprop_blur_contrast_hist, \"local\", \"rmsprop\", \"blur_contrast\")"
      ],
      "metadata": {
        "id": "QpFJ7LiHz3iw"
      },
      "execution_count": null,
      "outputs": []
    },
    {
      "cell_type": "code",
      "source": [
        "calculate_metrics(local_rmsprop_blur_contrast, test_local_ds, local_ds, local_classes)\n",
        "print('Metric Result - efficientnetM [local data | rmsprop | blur_contrast]')"
      ],
      "metadata": {
        "id": "l3lpXP-5z3iw"
      },
      "execution_count": null,
      "outputs": []
    },
    {
      "cell_type": "code",
      "source": [
        "local_rmsprop_blur_contrast.save('/content/models/EffV2B0-rms-blur-contrast.keras')"
      ],
      "metadata": {
        "id": "5qhgUGqc9JAZ"
      },
      "execution_count": null,
      "outputs": []
    },
    {
      "cell_type": "markdown",
      "source": [
        "#### Noise + Contrast"
      ],
      "metadata": {
        "id": "kWNY5gaOz3iw"
      }
    },
    {
      "cell_type": "code",
      "source": [
        "dir_noise_contrast = os.path.join(CHECKPOINT_PATH, \"rmsprop/noise_contrast/cp_epoch_{epoch:02d}.weights.h5\")\n",
        "\n",
        "checkpoint = tf.keras.callbacks.ModelCheckpoint(filepath=dir_noise_contrast,\n",
        "                                                 save_weights_only=True,\n",
        "                                                 verbose=1, save_freq=20*bs)\n",
        "\n",
        "early_stopping = tf.keras.callbacks.EarlyStopping(\n",
        "    min_delta=0.001, # minimium amount of change to count as an improvement\n",
        "    patience=40, # how many epochs to wait before stopping\n",
        "    restore_best_weights=True,\n",
        ")\n",
        "\n",
        "# initiate model\n",
        "base_model = tf.keras.applications.efficientnet_v2.EfficientNetV2B0(include_top=False,weights='imagenet',input_shape=(224,224,3),pooling=\"max\",include_preprocessing=False)\n",
        "input = tf.keras.Input(shape=(224,224,3))\n",
        "x = base_model(input)\n",
        "output = tf.keras.layers.Dense(local_classes, activation=\"softmax\")(x)\n",
        "local_rmsprop_noise_contrast = tf.keras.Model(input, output)\n",
        "\n",
        "# compile loss func\n",
        "local_rmsprop_noise_contrast.compile(\n",
        "    optimizer='rmsprop',\n",
        "    loss=tf.losses.SparseCategoricalCrossentropy(from_logits=False),\n",
        "    metrics=['accuracy']\n",
        ")"
      ],
      "metadata": {
        "id": "CNqbznlJz3iw"
      },
      "execution_count": null,
      "outputs": []
    },
    {
      "cell_type": "code",
      "source": [
        "local_rmsprop_noise_contrast_hist = local_rmsprop_noise_contrast.fit(\n",
        "  train_local_noise_contrast,\n",
        "  epochs = ep_local,\n",
        "  validation_data= val_local_normal,\n",
        "  callbacks=[checkpoint, early_stopping]\n",
        ")"
      ],
      "metadata": {
        "id": "YoXFSGxIz3ix"
      },
      "execution_count": null,
      "outputs": []
    },
    {
      "cell_type": "code",
      "source": [
        "local_rmsprop_noise_contrast.save_weights(os.path.join(CHECKPOINT_PATH, \"rmsprop/noise_contrast/best.weights.h5\"))\n",
        "\n",
        "plot_history(local_rmsprop_noise_contrast_hist, \"local\", \"rmsprop\", \"noise_contrast\")"
      ],
      "metadata": {
        "id": "4SBWSB8xz3ix"
      },
      "execution_count": null,
      "outputs": []
    },
    {
      "cell_type": "code",
      "source": [
        "calculate_metrics(local_rmsprop_noise_contrast, test_local_ds, local_ds, local_classes)\n",
        "print('Metric Result - efficientnetM [local data | rmsprop | noise_contrast]')"
      ],
      "metadata": {
        "id": "ozqeWhdIz3ix"
      },
      "execution_count": null,
      "outputs": []
    },
    {
      "cell_type": "code",
      "source": [
        "local_rmsprop_noise_contrast.save('/content/models/EffV2B0-rms-noise-contrast.keras')"
      ],
      "metadata": {
        "id": "fEdooJSa9M4j"
      },
      "execution_count": null,
      "outputs": []
    }
  ]
}